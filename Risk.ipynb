{
 "cells": [
  {
   "cell_type": "code",
   "execution_count": 1,
   "metadata": {},
   "outputs": [],
   "source": [
    "import numpy as np \n",
    "import pandas as pd \n",
    "import matplotlib.pyplot as plt \n",
    "import seaborn as sns\n",
    "\n",
    "from scipy import stats\n",
    "from scipy.stats import norm, skew"
   ]
  },
  {
   "cell_type": "code",
   "execution_count": 2,
   "metadata": {},
   "outputs": [],
   "source": [
    "train_data = pd.read_csv('./../data-set/application_train.csv')\n",
    "test_data = pd.read_csv('./../data-set/application_test.csv')"
   ]
  },
  {
   "cell_type": "code",
   "execution_count": 3,
   "metadata": {},
   "outputs": [
    {
     "data": {
      "text/html": [
       "<div>\n",
       "<style scoped>\n",
       "    .dataframe tbody tr th:only-of-type {\n",
       "        vertical-align: middle;\n",
       "    }\n",
       "\n",
       "    .dataframe tbody tr th {\n",
       "        vertical-align: top;\n",
       "    }\n",
       "\n",
       "    .dataframe thead th {\n",
       "        text-align: right;\n",
       "    }\n",
       "</style>\n",
       "<table border=\"1\" class=\"dataframe\">\n",
       "  <thead>\n",
       "    <tr style=\"text-align: right;\">\n",
       "      <th></th>\n",
       "      <th>SK_ID_CURR</th>\n",
       "      <th>TARGET</th>\n",
       "      <th>NAME_CONTRACT_TYPE</th>\n",
       "      <th>CODE_GENDER</th>\n",
       "      <th>FLAG_OWN_CAR</th>\n",
       "      <th>FLAG_OWN_REALTY</th>\n",
       "      <th>CNT_CHILDREN</th>\n",
       "      <th>AMT_INCOME_TOTAL</th>\n",
       "      <th>AMT_CREDIT</th>\n",
       "      <th>AMT_ANNUITY</th>\n",
       "      <th>...</th>\n",
       "      <th>FLAG_DOCUMENT_18</th>\n",
       "      <th>FLAG_DOCUMENT_19</th>\n",
       "      <th>FLAG_DOCUMENT_20</th>\n",
       "      <th>FLAG_DOCUMENT_21</th>\n",
       "      <th>AMT_REQ_CREDIT_BUREAU_HOUR</th>\n",
       "      <th>AMT_REQ_CREDIT_BUREAU_DAY</th>\n",
       "      <th>AMT_REQ_CREDIT_BUREAU_WEEK</th>\n",
       "      <th>AMT_REQ_CREDIT_BUREAU_MON</th>\n",
       "      <th>AMT_REQ_CREDIT_BUREAU_QRT</th>\n",
       "      <th>AMT_REQ_CREDIT_BUREAU_YEAR</th>\n",
       "    </tr>\n",
       "  </thead>\n",
       "  <tbody>\n",
       "    <tr>\n",
       "      <th>0</th>\n",
       "      <td>100002</td>\n",
       "      <td>1</td>\n",
       "      <td>Cash loans</td>\n",
       "      <td>M</td>\n",
       "      <td>N</td>\n",
       "      <td>Y</td>\n",
       "      <td>0</td>\n",
       "      <td>202500.0</td>\n",
       "      <td>406597.5</td>\n",
       "      <td>24700.5</td>\n",
       "      <td>...</td>\n",
       "      <td>0</td>\n",
       "      <td>0</td>\n",
       "      <td>0</td>\n",
       "      <td>0</td>\n",
       "      <td>0.0</td>\n",
       "      <td>0.0</td>\n",
       "      <td>0.0</td>\n",
       "      <td>0.0</td>\n",
       "      <td>0.0</td>\n",
       "      <td>1.0</td>\n",
       "    </tr>\n",
       "    <tr>\n",
       "      <th>1</th>\n",
       "      <td>100003</td>\n",
       "      <td>0</td>\n",
       "      <td>Cash loans</td>\n",
       "      <td>F</td>\n",
       "      <td>N</td>\n",
       "      <td>N</td>\n",
       "      <td>0</td>\n",
       "      <td>270000.0</td>\n",
       "      <td>1293502.5</td>\n",
       "      <td>35698.5</td>\n",
       "      <td>...</td>\n",
       "      <td>0</td>\n",
       "      <td>0</td>\n",
       "      <td>0</td>\n",
       "      <td>0</td>\n",
       "      <td>0.0</td>\n",
       "      <td>0.0</td>\n",
       "      <td>0.0</td>\n",
       "      <td>0.0</td>\n",
       "      <td>0.0</td>\n",
       "      <td>0.0</td>\n",
       "    </tr>\n",
       "    <tr>\n",
       "      <th>2</th>\n",
       "      <td>100004</td>\n",
       "      <td>0</td>\n",
       "      <td>Revolving loans</td>\n",
       "      <td>M</td>\n",
       "      <td>Y</td>\n",
       "      <td>Y</td>\n",
       "      <td>0</td>\n",
       "      <td>67500.0</td>\n",
       "      <td>135000.0</td>\n",
       "      <td>6750.0</td>\n",
       "      <td>...</td>\n",
       "      <td>0</td>\n",
       "      <td>0</td>\n",
       "      <td>0</td>\n",
       "      <td>0</td>\n",
       "      <td>0.0</td>\n",
       "      <td>0.0</td>\n",
       "      <td>0.0</td>\n",
       "      <td>0.0</td>\n",
       "      <td>0.0</td>\n",
       "      <td>0.0</td>\n",
       "    </tr>\n",
       "    <tr>\n",
       "      <th>3</th>\n",
       "      <td>100006</td>\n",
       "      <td>0</td>\n",
       "      <td>Cash loans</td>\n",
       "      <td>F</td>\n",
       "      <td>N</td>\n",
       "      <td>Y</td>\n",
       "      <td>0</td>\n",
       "      <td>135000.0</td>\n",
       "      <td>312682.5</td>\n",
       "      <td>29686.5</td>\n",
       "      <td>...</td>\n",
       "      <td>0</td>\n",
       "      <td>0</td>\n",
       "      <td>0</td>\n",
       "      <td>0</td>\n",
       "      <td>NaN</td>\n",
       "      <td>NaN</td>\n",
       "      <td>NaN</td>\n",
       "      <td>NaN</td>\n",
       "      <td>NaN</td>\n",
       "      <td>NaN</td>\n",
       "    </tr>\n",
       "    <tr>\n",
       "      <th>4</th>\n",
       "      <td>100007</td>\n",
       "      <td>0</td>\n",
       "      <td>Cash loans</td>\n",
       "      <td>M</td>\n",
       "      <td>N</td>\n",
       "      <td>Y</td>\n",
       "      <td>0</td>\n",
       "      <td>121500.0</td>\n",
       "      <td>513000.0</td>\n",
       "      <td>21865.5</td>\n",
       "      <td>...</td>\n",
       "      <td>0</td>\n",
       "      <td>0</td>\n",
       "      <td>0</td>\n",
       "      <td>0</td>\n",
       "      <td>0.0</td>\n",
       "      <td>0.0</td>\n",
       "      <td>0.0</td>\n",
       "      <td>0.0</td>\n",
       "      <td>0.0</td>\n",
       "      <td>0.0</td>\n",
       "    </tr>\n",
       "  </tbody>\n",
       "</table>\n",
       "<p>5 rows × 122 columns</p>\n",
       "</div>"
      ],
      "text/plain": [
       "   SK_ID_CURR  TARGET NAME_CONTRACT_TYPE CODE_GENDER FLAG_OWN_CAR  \\\n",
       "0      100002       1         Cash loans           M            N   \n",
       "1      100003       0         Cash loans           F            N   \n",
       "2      100004       0    Revolving loans           M            Y   \n",
       "3      100006       0         Cash loans           F            N   \n",
       "4      100007       0         Cash loans           M            N   \n",
       "\n",
       "  FLAG_OWN_REALTY  CNT_CHILDREN  AMT_INCOME_TOTAL  AMT_CREDIT  AMT_ANNUITY  \\\n",
       "0               Y             0          202500.0    406597.5      24700.5   \n",
       "1               N             0          270000.0   1293502.5      35698.5   \n",
       "2               Y             0           67500.0    135000.0       6750.0   \n",
       "3               Y             0          135000.0    312682.5      29686.5   \n",
       "4               Y             0          121500.0    513000.0      21865.5   \n",
       "\n",
       "   ...  FLAG_DOCUMENT_18 FLAG_DOCUMENT_19 FLAG_DOCUMENT_20 FLAG_DOCUMENT_21  \\\n",
       "0  ...                 0                0                0                0   \n",
       "1  ...                 0                0                0                0   \n",
       "2  ...                 0                0                0                0   \n",
       "3  ...                 0                0                0                0   \n",
       "4  ...                 0                0                0                0   \n",
       "\n",
       "  AMT_REQ_CREDIT_BUREAU_HOUR AMT_REQ_CREDIT_BUREAU_DAY  \\\n",
       "0                        0.0                       0.0   \n",
       "1                        0.0                       0.0   \n",
       "2                        0.0                       0.0   \n",
       "3                        NaN                       NaN   \n",
       "4                        0.0                       0.0   \n",
       "\n",
       "   AMT_REQ_CREDIT_BUREAU_WEEK  AMT_REQ_CREDIT_BUREAU_MON  \\\n",
       "0                         0.0                        0.0   \n",
       "1                         0.0                        0.0   \n",
       "2                         0.0                        0.0   \n",
       "3                         NaN                        NaN   \n",
       "4                         0.0                        0.0   \n",
       "\n",
       "   AMT_REQ_CREDIT_BUREAU_QRT  AMT_REQ_CREDIT_BUREAU_YEAR  \n",
       "0                        0.0                         1.0  \n",
       "1                        0.0                         0.0  \n",
       "2                        0.0                         0.0  \n",
       "3                        NaN                         NaN  \n",
       "4                        0.0                         0.0  \n",
       "\n",
       "[5 rows x 122 columns]"
      ]
     },
     "execution_count": 3,
     "metadata": {},
     "output_type": "execute_result"
    }
   ],
   "source": [
    "train_data.head(5)"
   ]
  },
  {
   "cell_type": "markdown",
   "metadata": {},
   "source": [
    "# Displaying column name and type"
   ]
  },
  {
   "cell_type": "code",
   "execution_count": 4,
   "metadata": {},
   "outputs": [
    {
     "name": "stdout",
     "output_type": "stream",
     "text": [
      "SK_ID_CURR int64\n",
      "TARGET int64\n",
      "NAME_CONTRACT_TYPE object\n",
      "CODE_GENDER object\n",
      "FLAG_OWN_CAR object\n",
      "FLAG_OWN_REALTY object\n",
      "CNT_CHILDREN int64\n",
      "AMT_INCOME_TOTAL float64\n",
      "AMT_CREDIT float64\n",
      "AMT_ANNUITY float64\n",
      "AMT_GOODS_PRICE float64\n",
      "NAME_TYPE_SUITE object\n",
      "NAME_INCOME_TYPE object\n",
      "NAME_EDUCATION_TYPE object\n",
      "NAME_FAMILY_STATUS object\n",
      "NAME_HOUSING_TYPE object\n",
      "REGION_POPULATION_RELATIVE float64\n",
      "DAYS_BIRTH int64\n",
      "DAYS_EMPLOYED int64\n",
      "DAYS_REGISTRATION float64\n",
      "DAYS_ID_PUBLISH int64\n",
      "OWN_CAR_AGE float64\n",
      "FLAG_MOBIL int64\n",
      "FLAG_EMP_PHONE int64\n",
      "FLAG_WORK_PHONE int64\n",
      "FLAG_CONT_MOBILE int64\n",
      "FLAG_PHONE int64\n",
      "FLAG_EMAIL int64\n",
      "OCCUPATION_TYPE object\n",
      "CNT_FAM_MEMBERS float64\n",
      "REGION_RATING_CLIENT int64\n",
      "REGION_RATING_CLIENT_W_CITY int64\n",
      "WEEKDAY_APPR_PROCESS_START object\n",
      "HOUR_APPR_PROCESS_START int64\n",
      "REG_REGION_NOT_LIVE_REGION int64\n",
      "REG_REGION_NOT_WORK_REGION int64\n",
      "LIVE_REGION_NOT_WORK_REGION int64\n",
      "REG_CITY_NOT_LIVE_CITY int64\n",
      "REG_CITY_NOT_WORK_CITY int64\n",
      "LIVE_CITY_NOT_WORK_CITY int64\n",
      "ORGANIZATION_TYPE object\n",
      "EXT_SOURCE_1 float64\n",
      "EXT_SOURCE_2 float64\n",
      "EXT_SOURCE_3 float64\n",
      "APARTMENTS_AVG float64\n",
      "BASEMENTAREA_AVG float64\n",
      "YEARS_BEGINEXPLUATATION_AVG float64\n",
      "YEARS_BUILD_AVG float64\n",
      "COMMONAREA_AVG float64\n",
      "ELEVATORS_AVG float64\n",
      "ENTRANCES_AVG float64\n",
      "FLOORSMAX_AVG float64\n",
      "FLOORSMIN_AVG float64\n",
      "LANDAREA_AVG float64\n",
      "LIVINGAPARTMENTS_AVG float64\n",
      "LIVINGAREA_AVG float64\n",
      "NONLIVINGAPARTMENTS_AVG float64\n",
      "NONLIVINGAREA_AVG float64\n",
      "APARTMENTS_MODE float64\n",
      "BASEMENTAREA_MODE float64\n",
      "YEARS_BEGINEXPLUATATION_MODE float64\n",
      "YEARS_BUILD_MODE float64\n",
      "COMMONAREA_MODE float64\n",
      "ELEVATORS_MODE float64\n",
      "ENTRANCES_MODE float64\n",
      "FLOORSMAX_MODE float64\n",
      "FLOORSMIN_MODE float64\n",
      "LANDAREA_MODE float64\n",
      "LIVINGAPARTMENTS_MODE float64\n",
      "LIVINGAREA_MODE float64\n",
      "NONLIVINGAPARTMENTS_MODE float64\n",
      "NONLIVINGAREA_MODE float64\n",
      "APARTMENTS_MEDI float64\n",
      "BASEMENTAREA_MEDI float64\n",
      "YEARS_BEGINEXPLUATATION_MEDI float64\n",
      "YEARS_BUILD_MEDI float64\n",
      "COMMONAREA_MEDI float64\n",
      "ELEVATORS_MEDI float64\n",
      "ENTRANCES_MEDI float64\n",
      "FLOORSMAX_MEDI float64\n",
      "FLOORSMIN_MEDI float64\n",
      "LANDAREA_MEDI float64\n",
      "LIVINGAPARTMENTS_MEDI float64\n",
      "LIVINGAREA_MEDI float64\n",
      "NONLIVINGAPARTMENTS_MEDI float64\n",
      "NONLIVINGAREA_MEDI float64\n",
      "FONDKAPREMONT_MODE object\n",
      "HOUSETYPE_MODE object\n",
      "TOTALAREA_MODE float64\n",
      "WALLSMATERIAL_MODE object\n",
      "EMERGENCYSTATE_MODE object\n",
      "OBS_30_CNT_SOCIAL_CIRCLE float64\n",
      "DEF_30_CNT_SOCIAL_CIRCLE float64\n",
      "OBS_60_CNT_SOCIAL_CIRCLE float64\n",
      "DEF_60_CNT_SOCIAL_CIRCLE float64\n",
      "DAYS_LAST_PHONE_CHANGE float64\n",
      "FLAG_DOCUMENT_2 int64\n",
      "FLAG_DOCUMENT_3 int64\n",
      "FLAG_DOCUMENT_4 int64\n",
      "FLAG_DOCUMENT_5 int64\n",
      "FLAG_DOCUMENT_6 int64\n",
      "FLAG_DOCUMENT_7 int64\n",
      "FLAG_DOCUMENT_8 int64\n",
      "FLAG_DOCUMENT_9 int64\n",
      "FLAG_DOCUMENT_10 int64\n",
      "FLAG_DOCUMENT_11 int64\n",
      "FLAG_DOCUMENT_12 int64\n",
      "FLAG_DOCUMENT_13 int64\n",
      "FLAG_DOCUMENT_14 int64\n",
      "FLAG_DOCUMENT_15 int64\n",
      "FLAG_DOCUMENT_16 int64\n",
      "FLAG_DOCUMENT_17 int64\n",
      "FLAG_DOCUMENT_18 int64\n",
      "FLAG_DOCUMENT_19 int64\n",
      "FLAG_DOCUMENT_20 int64\n",
      "FLAG_DOCUMENT_21 int64\n",
      "AMT_REQ_CREDIT_BUREAU_HOUR float64\n",
      "AMT_REQ_CREDIT_BUREAU_DAY float64\n",
      "AMT_REQ_CREDIT_BUREAU_WEEK float64\n",
      "AMT_REQ_CREDIT_BUREAU_MON float64\n",
      "AMT_REQ_CREDIT_BUREAU_QRT float64\n",
      "AMT_REQ_CREDIT_BUREAU_YEAR float64\n",
      "(307511, 122)\n"
     ]
    }
   ],
   "source": [
    "for i in range(len(train_data.columns)):\n",
    "    print(train_data.iloc[:,i].name, train_data.iloc[:,i].dtype)\n",
    "\n",
    "print(train_data.shape)"
   ]
  },
  {
   "cell_type": "markdown",
   "metadata": {},
   "source": [
    "# Categorizing object type columns, removing the object columns and concatenating the categorized values back in"
   ]
  },
  {
   "cell_type": "code",
   "execution_count": 5,
   "metadata": {},
   "outputs": [],
   "source": [
    "list_dummy_train = train_data.select_dtypes(\"object\").columns.tolist()\n",
    "list_dummy_test = test_data.select_dtypes(\"object\").columns.tolist()\n",
    "\n",
    "train_dummies = pd.get_dummies(train_data[list_dummy_train])\n",
    "test_dummies = pd.get_dummies(test_data[list_dummy_test])"
   ]
  },
  {
   "cell_type": "code",
   "execution_count": 6,
   "metadata": {},
   "outputs": [],
   "source": [
    "#difference between 2 dummies for sync \n",
    "diff = list(set(train_dummies) - set(test_dummies))\n",
    "for x in diff:\n",
    "  test_dummies[x] = np.nan  \n",
    "  pass\n",
    "\n",
    "\n",
    "train_dummies = train_dummies.reindex(sorted(train_dummies.columns), axis=1)\n",
    "test_dummies = test_dummies.reindex(sorted(test_dummies.columns), axis=1)"
   ]
  },
  {
   "cell_type": "markdown",
   "metadata": {},
   "source": [
    "## Filling nulls with mean scores"
   ]
  },
  {
   "cell_type": "code",
   "execution_count": 7,
   "metadata": {},
   "outputs": [],
   "source": [
    "data_train_num = train_data.select_dtypes(exclude=[\"object\"])\n",
    "data_train_num = data_train_num.fillna(data_train_num.mean())\n",
    "data_train = pd.concat([data_train_num, train_dummies], axis = 1)\n",
    "\n",
    "data_test_num = test_data.select_dtypes(exclude=[\"object\"])\n",
    "data_test_num = data_test_num.fillna(data_test_num.mean())\n",
    "data_test = pd.concat([data_test_num, test_dummies], axis = 1)"
   ]
  },
  {
   "cell_type": "markdown",
   "metadata": {},
   "source": [
    "# Checking for Null values"
   ]
  },
  {
   "cell_type": "code",
   "execution_count": 8,
   "metadata": {},
   "outputs": [
    {
     "name": "stdout",
     "output_type": "stream",
     "text": [
      "Series([], dtype: int64)\n"
     ]
    }
   ],
   "source": [
    "na_data = data_train.isnull().sum()\n",
    "na_data_train = na_data.drop(na_data[na_data == 0].index).sort_values(ascending=False)\n",
    "print(na_data_train)"
   ]
  },
  {
   "cell_type": "code",
   "execution_count": 9,
   "metadata": {},
   "outputs": [
    {
     "name": "stdout",
     "output_type": "stream",
     "text": [
      "NAME_INCOME_TYPE_Maternity leave    48744\n",
      "NAME_FAMILY_STATUS_Unknown          48744\n",
      "CODE_GENDER_XNA                     48744\n",
      "dtype: int64\n"
     ]
    }
   ],
   "source": [
    "na_data = data_test.isnull().sum()\n",
    "na_data_test = na_data.drop(na_data[na_data == 0].index).sort_values(ascending=False)\n",
    "print(na_data_test)"
   ]
  },
  {
   "cell_type": "markdown",
   "metadata": {},
   "source": [
    "# Filling null values with 0's if needed"
   ]
  },
  {
   "cell_type": "code",
   "execution_count": 10,
   "metadata": {},
   "outputs": [],
   "source": [
    "data_train = data_train.fillna(0)\n",
    "data_test = data_test.fillna(0)"
   ]
  },
  {
   "cell_type": "code",
   "execution_count": 11,
   "metadata": {},
   "outputs": [
    {
     "name": "stdout",
     "output_type": "stream",
     "text": [
      "Series([], dtype: int64)\n"
     ]
    }
   ],
   "source": [
    "na_data = data_test.isnull().sum()\n",
    "na_data_train = na_data.drop(na_data[na_data == 0].index).sort_values(ascending=False)\n",
    "print(na_data_train)"
   ]
  },
  {
   "cell_type": "code",
   "execution_count": 12,
   "metadata": {},
   "outputs": [
    {
     "name": "stdout",
     "output_type": "stream",
     "text": [
      "Series([], dtype: int64)\n"
     ]
    }
   ],
   "source": [
    "na_data = data_test.isnull().sum()\n",
    "na_data_test = na_data.drop(na_data[na_data == 0].index).sort_values(ascending=False)\n",
    "print(na_data_test)"
   ]
  },
  {
   "cell_type": "markdown",
   "metadata": {},
   "source": [
    "# Checking at the target class in training set"
   ]
  },
  {
   "cell_type": "code",
   "execution_count": 13,
   "metadata": {},
   "outputs": [
    {
     "data": {
      "text/html": [
       "<div>\n",
       "<style scoped>\n",
       "    .dataframe tbody tr th:only-of-type {\n",
       "        vertical-align: middle;\n",
       "    }\n",
       "\n",
       "    .dataframe tbody tr th {\n",
       "        vertical-align: top;\n",
       "    }\n",
       "\n",
       "    .dataframe thead th {\n",
       "        text-align: right;\n",
       "    }\n",
       "</style>\n",
       "<table border=\"1\" class=\"dataframe\">\n",
       "  <thead>\n",
       "    <tr style=\"text-align: right;\">\n",
       "      <th></th>\n",
       "      <th>target</th>\n",
       "      <th>count</th>\n",
       "    </tr>\n",
       "  </thead>\n",
       "  <tbody>\n",
       "    <tr>\n",
       "      <th>0</th>\n",
       "      <td>1</td>\n",
       "      <td>24825</td>\n",
       "    </tr>\n",
       "    <tr>\n",
       "      <th>1</th>\n",
       "      <td>0</td>\n",
       "      <td>282686</td>\n",
       "    </tr>\n",
       "  </tbody>\n",
       "</table>\n",
       "</div>"
      ],
      "text/plain": [
       "   target   count\n",
       "0       1   24825\n",
       "1       0  282686"
      ]
     },
     "execution_count": 13,
     "metadata": {},
     "output_type": "execute_result"
    }
   ],
   "source": [
    "target_0 = 0\n",
    "target_1 = 0\n",
    "\n",
    "for i in range(len(train_data.TARGET)):\n",
    "    if train_data.TARGET[i] == 0:\n",
    "        target_0 += 1\n",
    "    else:\n",
    "        target_1 += 1\n",
    "\n",
    "target_class = train_data.TARGET.unique()\n",
    "target_list =[target_1, target_0]\n",
    "\n",
    "d = {'target':target_class, 'count':target_list}\n",
    "target_g = pd.DataFrame(d)\n",
    "target_g"
   ]
  },
  {
   "cell_type": "code",
   "execution_count": 14,
   "metadata": {},
   "outputs": [
    {
     "data": {
      "text/plain": [
       "Text(0.5,1,'Total number of Target Instances')"
      ]
     },
     "execution_count": 14,
     "metadata": {},
     "output_type": "execute_result"
    },
    {
     "data": {
      "image/png": "[encoded data removed]",
      "text/plain": [
       "<Figure size 720x360 with 1 Axes>"
      ]
     },
     "metadata": {
      "needs_background": "light"
     },
     "output_type": "display_data"
    }
   ],
   "source": [
    "fig, ax = plt.subplots(figsize=(10,5))\n",
    "ax = sns.barplot(x='target', y='count', data=target_g, color='b')\n",
    "ax.set_title('Total number of Target Instances')"
   ]
  },
  {
   "cell_type": "markdown",
   "metadata": {},
   "source": [
    "# Applying SMOTE on Training Set"
   ]
  },
  {
   "cell_type": "code",
   "execution_count": 15,
   "metadata": {},
   "outputs": [],
   "source": [
    "X_train = data_train\n",
    "X_train = X_train.drop(['TARGET'], axis=1)\n",
    "Y_train = data_train.TARGET"
   ]
  },
  {
   "cell_type": "code",
   "execution_count": 16,
   "metadata": {},
   "outputs": [
    {
     "name": "stderr",
     "output_type": "stream",
     "text": [
      "Using TensorFlow backend.\n"
     ]
    }
   ],
   "source": [
    "from imblearn.over_sampling import SMOTE \n",
    "\n",
    "sm = SMOTE(random_state=42)\n",
    "X_res, y_res = sm.fit_resample(X_train, Y_train)"
   ]
  },
  {
   "cell_type": "code",
   "execution_count": 17,
   "metadata": {},
   "outputs": [
    {
     "data": {
      "text/html": [
       "<div>\n",
       "<style scoped>\n",
       "    .dataframe tbody tr th:only-of-type {\n",
       "        vertical-align: middle;\n",
       "    }\n",
       "\n",
       "    .dataframe tbody tr th {\n",
       "        vertical-align: top;\n",
       "    }\n",
       "\n",
       "    .dataframe thead th {\n",
       "        text-align: right;\n",
       "    }\n",
       "</style>\n",
       "<table border=\"1\" class=\"dataframe\">\n",
       "  <thead>\n",
       "    <tr style=\"text-align: right;\">\n",
       "      <th></th>\n",
       "      <th>target</th>\n",
       "      <th>count</th>\n",
       "    </tr>\n",
       "  </thead>\n",
       "  <tbody>\n",
       "    <tr>\n",
       "      <th>0</th>\n",
       "      <td>1</td>\n",
       "      <td>282686</td>\n",
       "    </tr>\n",
       "    <tr>\n",
       "      <th>1</th>\n",
       "      <td>0</td>\n",
       "      <td>282686</td>\n",
       "    </tr>\n",
       "  </tbody>\n",
       "</table>\n",
       "</div>"
      ],
      "text/plain": [
       "   target   count\n",
       "0       1  282686\n",
       "1       0  282686"
      ]
     },
     "execution_count": 17,
     "metadata": {},
     "output_type": "execute_result"
    }
   ],
   "source": [
    "target_0 = 0\n",
    "target_1 = 0\n",
    "\n",
    "for i in range(len(y_res)):\n",
    "    if y_res[i] == 0:\n",
    "        target_0 += 1\n",
    "    else:\n",
    "        target_1 += 1\n",
    "\n",
    "target_class = train_data.TARGET.unique()\n",
    "target_list =[target_1, target_0]\n",
    "\n",
    "d = {'target':target_class, 'count':target_list}\n",
    "target_g = pd.DataFrame(d)\n",
    "target_g"
   ]
  },
  {
   "cell_type": "code",
   "execution_count": 18,
   "metadata": {},
   "outputs": [
    {
     "data": {
      "text/plain": [
       "Text(0.5,1,'Total number of Target Instances')"
      ]
     },
     "execution_count": 18,
     "metadata": {},
     "output_type": "execute_result"
    },
    {
     "data": {
      "image/png": "[encoded data removed]",
      "text/plain": [
       "<Figure size 720x360 with 1 Axes>"
      ]
     },
     "metadata": {
      "needs_background": "light"
     },
     "output_type": "display_data"
    }
   ],
   "source": [
    "fig, ax = plt.subplots(figsize=(10,5))\n",
    "ax = sns.barplot(x='target', y='count', data=target_g, color='b')\n",
    "ax.set_title('Total number of Target Instances')"
   ]
  },
  {
   "cell_type": "code",
   "execution_count": 19,
   "metadata": {},
   "outputs": [
    {
     "name": "stderr",
     "output_type": "stream",
     "text": [
      "c:\\users\\tony\\appdata\\local\\programs\\python\\python36\\lib\\site-packages\\sklearn\\linear_model\\logistic.py:432: FutureWarning: Default solver will be changed to 'lbfgs' in 0.22. Specify a solver to silence this warning.\n",
      "  FutureWarning)\n"
     ]
    },
    {
     "data": {
      "text/plain": [
       "LogisticRegression(C=1.0, class_weight=None, dual=False, fit_intercept=True,\n",
       "                   intercept_scaling=1, l1_ratio=None, max_iter=100,\n",
       "                   multi_class='warn', n_jobs=None, penalty='l2',\n",
       "                   random_state=0, solver='warn', tol=0.0001, verbose=0,\n",
       "                   warm_start=False)"
      ]
     },
     "execution_count": 19,
     "metadata": {},
     "output_type": "execute_result"
    }
   ],
   "source": [
    "from sklearn.model_selection import train_test_split\n",
    "from sklearn.preprocessing import MinMaxScaler\n",
    "from sklearn.linear_model import LogisticRegression\n",
    "\n",
    "scaling = MinMaxScaler()\n",
    "X_res = scaling.fit_transform(X_res)\n",
    "X_test = scaling.fit_transform(data_test)\n",
    "\n",
    "X_train, X_validate, y_train, y_validate = train_test_split(X_res, y_res, test_size=0.2, random_state=42)\n",
    "\n",
    "logr = LogisticRegression(random_state=0)\n",
    "logr.fit(X_train, y_train)"
   ]
  },
  {
   "cell_type": "code",
   "execution_count": 20,
   "metadata": {},
   "outputs": [
    {
     "name": "stdout",
     "output_type": "stream",
     "text": [
      "Accuracy of logistic regression classifier on validation set: 0.70\n"
     ]
    }
   ],
   "source": [
    "val_pred = logr.predict(X_validate)\n",
    "print('Accuracy of logistic regression classifier on validation set: {:.2f}'.format(logr.score(X_validate, y_validate)))"
   ]
  },
  {
   "cell_type": "code",
   "execution_count": 21,
   "metadata": {},
   "outputs": [
    {
     "data": {
      "text/plain": [
       "<matplotlib.axes._subplots.AxesSubplot at 0x192b338fd30>"
      ]
     },
     "execution_count": 21,
     "metadata": {},
     "output_type": "execute_result"
    },
    {
     "data": {
      "image/png": "[encoded data removed]",
      "text/plain": [
       "<Figure size 720x720 with 2 Axes>"
      ]
     },
     "metadata": {
      "needs_background": "light"
     },
     "output_type": "display_data"
    }
   ],
   "source": [
    "from sklearn.metrics import classification_report\n",
    "from sklearn.metrics import confusion_matrix\n",
    "from sklearn.metrics import roc_curve, auc\n",
    "from sklearn.metrics import roc_auc_score\n",
    "\n",
    "cm = confusion_matrix(y_validate, val_pred) \n",
    "cmn = cm.astype('float') / cm.sum(axis=1)[:, np.newaxis]\n",
    "\n",
    "plt.figure(figsize=(10,10))\n",
    "plt.title('Confusion Matrix', fontsize = 25)\n",
    "sns.heatmap(cmn, annot=True, fmt=\".2f\", linewidths=.5, cmap=\"Blues\", annot_kws={\"size\": 25})"
   ]
  },
  {
   "cell_type": "code",
   "execution_count": 22,
   "metadata": {},
   "outputs": [
    {
     "name": "stdout",
     "output_type": "stream",
     "text": [
      "              precision    recall  f1-score   support\n",
      "\n",
      "           0       0.70      0.69      0.70     56536\n",
      "           1       0.70      0.70      0.70     56539\n",
      "\n",
      "    accuracy                           0.70    113075\n",
      "   macro avg       0.70      0.70      0.70    113075\n",
      "weighted avg       0.70      0.70      0.70    113075\n",
      "\n"
     ]
    }
   ],
   "source": [
    "print(classification_report(y_validate, val_pred))"
   ]
  },
  {
   "cell_type": "code",
   "execution_count": 23,
   "metadata": {},
   "outputs": [
    {
     "data": {
      "image/png": "[encoded data removed]",
      "text/plain": [
       "<Figure size 432x288 with 1 Axes>"
      ]
     },
     "metadata": {
      "needs_background": "light"
     },
     "output_type": "display_data"
    }
   ],
   "source": [
    "logit_roc_auc = roc_auc_score(y_validate, logr.predict(X_validate))\n",
    "fpr, tpr, thresholds = roc_curve(y_validate, logr.predict_proba(X_validate)[:,1])\n",
    "plt.figure()\n",
    "plt.plot(fpr, tpr, label='Logistic Regression (area = %0.2f)' % logit_roc_auc)\n",
    "plt.plot([0, 1], [0, 1],'r--')\n",
    "plt.xlim([0.0, 1.0])\n",
    "plt.ylim([0.0, 1.05])\n",
    "plt.xlabel('False Positive Rate')\n",
    "plt.ylabel('True Positive Rate')\n",
    "plt.title('Receiver operating characteristic')\n",
    "plt.legend(loc=\"lower right\")\n",
    "plt.savefig('Log_ROC')\n",
    "plt.show()"
   ]
  },
  {
   "cell_type": "code",
   "execution_count": 24,
   "metadata": {},
   "outputs": [],
   "source": [
    "test_pred = logr.predict_proba(X_test).T[1]\n",
    "index = data_test.SK_ID_CURR.astype(int)\n",
    "\n",
    "test_pred_table = pd.DataFrame({'SK_ID_CURR': index, 'TARGET': test_pred})"
   ]
  },
  {
   "cell_type": "code",
   "execution_count": 25,
   "metadata": {},
   "outputs": [
    {
     "data": {
      "text/html": [
       "<div>\n",
       "<style scoped>\n",
       "    .dataframe tbody tr th:only-of-type {\n",
       "        vertical-align: middle;\n",
       "    }\n",
       "\n",
       "    .dataframe tbody tr th {\n",
       "        vertical-align: top;\n",
       "    }\n",
       "\n",
       "    .dataframe thead th {\n",
       "        text-align: right;\n",
       "    }\n",
       "</style>\n",
       "<table border=\"1\" class=\"dataframe\">\n",
       "  <thead>\n",
       "    <tr style=\"text-align: right;\">\n",
       "      <th></th>\n",
       "      <th>SK_ID_CURR</th>\n",
       "      <th>TARGET</th>\n",
       "    </tr>\n",
       "  </thead>\n",
       "  <tbody>\n",
       "    <tr>\n",
       "      <th>0</th>\n",
       "      <td>100001</td>\n",
       "      <td>0.428973</td>\n",
       "    </tr>\n",
       "    <tr>\n",
       "      <th>1</th>\n",
       "      <td>100005</td>\n",
       "      <td>0.817951</td>\n",
       "    </tr>\n",
       "    <tr>\n",
       "      <th>2</th>\n",
       "      <td>100013</td>\n",
       "      <td>0.256618</td>\n",
       "    </tr>\n",
       "    <tr>\n",
       "      <th>3</th>\n",
       "      <td>100028</td>\n",
       "      <td>0.276950</td>\n",
       "    </tr>\n",
       "    <tr>\n",
       "      <th>4</th>\n",
       "      <td>100038</td>\n",
       "      <td>0.604239</td>\n",
       "    </tr>\n",
       "    <tr>\n",
       "      <th>5</th>\n",
       "      <td>100042</td>\n",
       "      <td>0.176817</td>\n",
       "    </tr>\n",
       "    <tr>\n",
       "      <th>6</th>\n",
       "      <td>100057</td>\n",
       "      <td>0.173518</td>\n",
       "    </tr>\n",
       "    <tr>\n",
       "      <th>7</th>\n",
       "      <td>100065</td>\n",
       "      <td>0.576262</td>\n",
       "    </tr>\n",
       "    <tr>\n",
       "      <th>8</th>\n",
       "      <td>100066</td>\n",
       "      <td>0.157956</td>\n",
       "    </tr>\n",
       "    <tr>\n",
       "      <th>9</th>\n",
       "      <td>100067</td>\n",
       "      <td>0.657344</td>\n",
       "    </tr>\n",
       "    <tr>\n",
       "      <th>10</th>\n",
       "      <td>100074</td>\n",
       "      <td>0.423874</td>\n",
       "    </tr>\n",
       "    <tr>\n",
       "      <th>11</th>\n",
       "      <td>100090</td>\n",
       "      <td>0.539972</td>\n",
       "    </tr>\n",
       "    <tr>\n",
       "      <th>12</th>\n",
       "      <td>100091</td>\n",
       "      <td>0.651956</td>\n",
       "    </tr>\n",
       "    <tr>\n",
       "      <th>13</th>\n",
       "      <td>100092</td>\n",
       "      <td>0.402378</td>\n",
       "    </tr>\n",
       "    <tr>\n",
       "      <th>14</th>\n",
       "      <td>100106</td>\n",
       "      <td>0.528778</td>\n",
       "    </tr>\n",
       "    <tr>\n",
       "      <th>15</th>\n",
       "      <td>100107</td>\n",
       "      <td>0.591948</td>\n",
       "    </tr>\n",
       "    <tr>\n",
       "      <th>16</th>\n",
       "      <td>100109</td>\n",
       "      <td>0.488798</td>\n",
       "    </tr>\n",
       "    <tr>\n",
       "      <th>17</th>\n",
       "      <td>100117</td>\n",
       "      <td>0.159192</td>\n",
       "    </tr>\n",
       "    <tr>\n",
       "      <th>18</th>\n",
       "      <td>100128</td>\n",
       "      <td>0.136748</td>\n",
       "    </tr>\n",
       "    <tr>\n",
       "      <th>19</th>\n",
       "      <td>100141</td>\n",
       "      <td>0.259234</td>\n",
       "    </tr>\n",
       "    <tr>\n",
       "      <th>20</th>\n",
       "      <td>100150</td>\n",
       "      <td>0.099573</td>\n",
       "    </tr>\n",
       "    <tr>\n",
       "      <th>21</th>\n",
       "      <td>100168</td>\n",
       "      <td>0.089658</td>\n",
       "    </tr>\n",
       "    <tr>\n",
       "      <th>22</th>\n",
       "      <td>100169</td>\n",
       "      <td>0.380385</td>\n",
       "    </tr>\n",
       "    <tr>\n",
       "      <th>23</th>\n",
       "      <td>100170</td>\n",
       "      <td>0.691072</td>\n",
       "    </tr>\n",
       "    <tr>\n",
       "      <th>24</th>\n",
       "      <td>100171</td>\n",
       "      <td>0.249749</td>\n",
       "    </tr>\n",
       "    <tr>\n",
       "      <th>25</th>\n",
       "      <td>100172</td>\n",
       "      <td>0.479512</td>\n",
       "    </tr>\n",
       "    <tr>\n",
       "      <th>26</th>\n",
       "      <td>100184</td>\n",
       "      <td>0.647481</td>\n",
       "    </tr>\n",
       "    <tr>\n",
       "      <th>27</th>\n",
       "      <td>100187</td>\n",
       "      <td>0.501756</td>\n",
       "    </tr>\n",
       "    <tr>\n",
       "      <th>28</th>\n",
       "      <td>100212</td>\n",
       "      <td>0.285804</td>\n",
       "    </tr>\n",
       "    <tr>\n",
       "      <th>29</th>\n",
       "      <td>100222</td>\n",
       "      <td>0.356753</td>\n",
       "    </tr>\n",
       "    <tr>\n",
       "      <th>...</th>\n",
       "      <td>...</td>\n",
       "      <td>...</td>\n",
       "    </tr>\n",
       "    <tr>\n",
       "      <th>48714</th>\n",
       "      <td>455963</td>\n",
       "      <td>0.077992</td>\n",
       "    </tr>\n",
       "    <tr>\n",
       "      <th>48715</th>\n",
       "      <td>455965</td>\n",
       "      <td>0.284922</td>\n",
       "    </tr>\n",
       "    <tr>\n",
       "      <th>48716</th>\n",
       "      <td>456007</td>\n",
       "      <td>0.865761</td>\n",
       "    </tr>\n",
       "    <tr>\n",
       "      <th>48717</th>\n",
       "      <td>456008</td>\n",
       "      <td>0.078163</td>\n",
       "    </tr>\n",
       "    <tr>\n",
       "      <th>48718</th>\n",
       "      <td>456009</td>\n",
       "      <td>0.366382</td>\n",
       "    </tr>\n",
       "    <tr>\n",
       "      <th>48719</th>\n",
       "      <td>456010</td>\n",
       "      <td>0.516872</td>\n",
       "    </tr>\n",
       "    <tr>\n",
       "      <th>48720</th>\n",
       "      <td>456011</td>\n",
       "      <td>0.302913</td>\n",
       "    </tr>\n",
       "    <tr>\n",
       "      <th>48721</th>\n",
       "      <td>456013</td>\n",
       "      <td>0.438108</td>\n",
       "    </tr>\n",
       "    <tr>\n",
       "      <th>48722</th>\n",
       "      <td>456028</td>\n",
       "      <td>0.528669</td>\n",
       "    </tr>\n",
       "    <tr>\n",
       "      <th>48723</th>\n",
       "      <td>456058</td>\n",
       "      <td>0.396470</td>\n",
       "    </tr>\n",
       "    <tr>\n",
       "      <th>48724</th>\n",
       "      <td>456111</td>\n",
       "      <td>0.793233</td>\n",
       "    </tr>\n",
       "    <tr>\n",
       "      <th>48725</th>\n",
       "      <td>456114</td>\n",
       "      <td>0.273297</td>\n",
       "    </tr>\n",
       "    <tr>\n",
       "      <th>48726</th>\n",
       "      <td>456115</td>\n",
       "      <td>0.381924</td>\n",
       "    </tr>\n",
       "    <tr>\n",
       "      <th>48727</th>\n",
       "      <td>456116</td>\n",
       "      <td>0.296531</td>\n",
       "    </tr>\n",
       "    <tr>\n",
       "      <th>48728</th>\n",
       "      <td>456119</td>\n",
       "      <td>0.151424</td>\n",
       "    </tr>\n",
       "    <tr>\n",
       "      <th>48729</th>\n",
       "      <td>456120</td>\n",
       "      <td>0.395114</td>\n",
       "    </tr>\n",
       "    <tr>\n",
       "      <th>48730</th>\n",
       "      <td>456122</td>\n",
       "      <td>0.292835</td>\n",
       "    </tr>\n",
       "    <tr>\n",
       "      <th>48731</th>\n",
       "      <td>456123</td>\n",
       "      <td>0.083368</td>\n",
       "    </tr>\n",
       "    <tr>\n",
       "      <th>48732</th>\n",
       "      <td>456166</td>\n",
       "      <td>0.638354</td>\n",
       "    </tr>\n",
       "    <tr>\n",
       "      <th>48733</th>\n",
       "      <td>456167</td>\n",
       "      <td>0.354786</td>\n",
       "    </tr>\n",
       "    <tr>\n",
       "      <th>48734</th>\n",
       "      <td>456168</td>\n",
       "      <td>0.551617</td>\n",
       "    </tr>\n",
       "    <tr>\n",
       "      <th>48735</th>\n",
       "      <td>456169</td>\n",
       "      <td>0.263409</td>\n",
       "    </tr>\n",
       "    <tr>\n",
       "      <th>48736</th>\n",
       "      <td>456170</td>\n",
       "      <td>0.177724</td>\n",
       "    </tr>\n",
       "    <tr>\n",
       "      <th>48737</th>\n",
       "      <td>456189</td>\n",
       "      <td>0.673001</td>\n",
       "    </tr>\n",
       "    <tr>\n",
       "      <th>48738</th>\n",
       "      <td>456202</td>\n",
       "      <td>0.451609</td>\n",
       "    </tr>\n",
       "    <tr>\n",
       "      <th>48739</th>\n",
       "      <td>456221</td>\n",
       "      <td>0.306188</td>\n",
       "    </tr>\n",
       "    <tr>\n",
       "      <th>48740</th>\n",
       "      <td>456222</td>\n",
       "      <td>0.399107</td>\n",
       "    </tr>\n",
       "    <tr>\n",
       "      <th>48741</th>\n",
       "      <td>456223</td>\n",
       "      <td>0.075797</td>\n",
       "    </tr>\n",
       "    <tr>\n",
       "      <th>48742</th>\n",
       "      <td>456224</td>\n",
       "      <td>0.410308</td>\n",
       "    </tr>\n",
       "    <tr>\n",
       "      <th>48743</th>\n",
       "      <td>456250</td>\n",
       "      <td>0.516024</td>\n",
       "    </tr>\n",
       "  </tbody>\n",
       "</table>\n",
       "<p>48744 rows × 2 columns</p>\n",
       "</div>"
      ],
      "text/plain": [
       "       SK_ID_CURR    TARGET\n",
       "0          100001  0.428973\n",
       "1          100005  0.817951\n",
       "2          100013  0.256618\n",
       "3          100028  0.276950\n",
       "4          100038  0.604239\n",
       "5          100042  0.176817\n",
       "6          100057  0.173518\n",
       "7          100065  0.576262\n",
       "8          100066  0.157956\n",
       "9          100067  0.657344\n",
       "10         100074  0.423874\n",
       "11         100090  0.539972\n",
       "12         100091  0.651956\n",
       "13         100092  0.402378\n",
       "14         100106  0.528778\n",
       "15         100107  0.591948\n",
       "16         100109  0.488798\n",
       "17         100117  0.159192\n",
       "18         100128  0.136748\n",
       "19         100141  0.259234\n",
       "20         100150  0.099573\n",
       "21         100168  0.089658\n",
       "22         100169  0.380385\n",
       "23         100170  0.691072\n",
       "24         100171  0.249749\n",
       "25         100172  0.479512\n",
       "26         100184  0.647481\n",
       "27         100187  0.501756\n",
       "28         100212  0.285804\n",
       "29         100222  0.356753\n",
       "...           ...       ...\n",
       "48714      455963  0.077992\n",
       "48715      455965  0.284922\n",
       "48716      456007  0.865761\n",
       "48717      456008  0.078163\n",
       "48718      456009  0.366382\n",
       "48719      456010  0.516872\n",
       "48720      456011  0.302913\n",
       "48721      456013  0.438108\n",
       "48722      456028  0.528669\n",
       "48723      456058  0.396470\n",
       "48724      456111  0.793233\n",
       "48725      456114  0.273297\n",
       "48726      456115  0.381924\n",
       "48727      456116  0.296531\n",
       "48728      456119  0.151424\n",
       "48729      456120  0.395114\n",
       "48730      456122  0.292835\n",
       "48731      456123  0.083368\n",
       "48732      456166  0.638354\n",
       "48733      456167  0.354786\n",
       "48734      456168  0.551617\n",
       "48735      456169  0.263409\n",
       "48736      456170  0.177724\n",
       "48737      456189  0.673001\n",
       "48738      456202  0.451609\n",
       "48739      456221  0.306188\n",
       "48740      456222  0.399107\n",
       "48741      456223  0.075797\n",
       "48742      456224  0.410308\n",
       "48743      456250  0.516024\n",
       "\n",
       "[48744 rows x 2 columns]"
      ]
     },
     "execution_count": 25,
     "metadata": {},
     "output_type": "execute_result"
    }
   ],
   "source": [
    "test_pred_table"
   ]
  }
 ],
 "metadata": {
  "kernelspec": {
   "display_name": "Python 3",
   "language": "python",
   "name": "python3"
  },
  "language_info": {
   "codemirror_mode": {
    "name": "ipython",
    "version": 3
   },
   "file_extension": ".py",
   "mimetype": "text/x-python",
   "name": "python",
   "nbconvert_exporter": "python",
   "pygments_lexer": "ipython3",
   "version": "3.6.8"
  }
 },
 "nbformat": 4,
 "nbformat_minor": 2
}
